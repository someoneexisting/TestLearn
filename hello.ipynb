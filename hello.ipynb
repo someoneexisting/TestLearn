{
  "nbformat": 4,
  "nbformat_minor": 0,
  "metadata": {
    "colab": {
      "name": "hello.ipynb",
      "version": "0.3.2",
      "provenance": [],
      "collapsed_sections": [],
      "include_colab_link": true
    },
    "kernelspec": {
      "name": "python3",
      "display_name": "Python 3"
    },
    "accelerator": "GPU"
  },
  "cells": [
    {
      "cell_type": "markdown",
      "metadata": {
        "id": "view-in-github",
        "colab_type": "text"
      },
      "source": [
        "[View in Colaboratory](https://colab.research.google.com/github/someoneexisting/TestLearn/blob/master/hello.ipynb)"
      ]
    },
    {
      "metadata": {
        "id": "By19UtzYwazE",
        "colab_type": "text"
      },
      "cell_type": "markdown",
      "source": [
        "## Task 1 - Virtual Environment"
      ]
    },
    {
      "metadata": {
        "id": "RAf8lGAiuAju",
        "colab_type": "code",
        "colab": {
          "base_uri": "https://localhost:8080/",
          "height": 35
        },
        "outputId": "a65c07c7-4721-4094-cb6f-dda918cd05fe"
      },
      "cell_type": "code",
      "source": [
        ""
      ],
      "execution_count": 0,
      "outputs": [
        {
          "output_type": "execute_result",
          "data": {
            "text/plain": [
              "'/device:GPU:0'"
            ]
          },
          "metadata": {
            "tags": []
          },
          "execution_count": 1
        }
      ]
    },
    {
      "metadata": {
        "id": "zTX822IVuttu",
        "colab_type": "text"
      },
      "cell_type": "markdown",
      "source": [
        "#### 1.1 Change to a Free GPU Runtime"
      ]
    },
    {
      "metadata": {
        "id": "o_F0tXI8u2kd",
        "colab_type": "text"
      },
      "cell_type": "markdown",
      "source": [
        "#### TASK 1.2: Mount Google Drive"
      ]
    },
    {
      "metadata": {
        "id": "OQyoov2DMOOZ",
        "colab_type": "code",
        "colab": {
          "base_uri": "https://localhost:8080/",
          "height": 2393
        },
        "outputId": "90b0426d-de81-40c4-e44e-1d2fde4305f8"
      },
      "cell_type": "code",
      "source": [
        ""
      ],
      "execution_count": 0,
      "outputs": [
        {
          "output_type": "stream",
          "text": [
            "Preconfiguring packages ...\n",
            "Selecting previously unselected package cron.\n",
            "(Reading database ... 18408 files and directories currently installed.)\n",
            "Preparing to unpack .../00-cron_3.0pl1-128ubuntu5_amd64.deb ...\n",
            "Unpacking cron (3.0pl1-128ubuntu5) ...\n",
            "Selecting previously unselected package libapparmor1:amd64.\n",
            "Preparing to unpack .../01-libapparmor1_2.11.0-2ubuntu17.1_amd64.deb ...\n",
            "Unpacking libapparmor1:amd64 (2.11.0-2ubuntu17.1) ...\n",
            "Selecting previously unselected package libdbus-1-3:amd64.\n",
            "Preparing to unpack .../02-libdbus-1-3_1.10.22-1ubuntu1_amd64.deb ...\n",
            "Unpacking libdbus-1-3:amd64 (1.10.22-1ubuntu1) ...\n",
            "Selecting previously unselected package dbus.\n",
            "Preparing to unpack .../03-dbus_1.10.22-1ubuntu1_amd64.deb ...\n",
            "Unpacking dbus (1.10.22-1ubuntu1) ...\n",
            "Selecting previously unselected package dirmngr.\n",
            "Preparing to unpack .../04-dirmngr_2.1.15-1ubuntu8.1_amd64.deb ...\n",
            "Unpacking dirmngr (2.1.15-1ubuntu8.1) ...\n",
            "Selecting previously unselected package distro-info-data.\n",
            "Preparing to unpack .../05-distro-info-data_0.36ubuntu0.2_all.deb ...\n",
            "Unpacking distro-info-data (0.36ubuntu0.2) ...\n",
            "Selecting previously unselected package libkmod2:amd64.\n",
            "Preparing to unpack .../06-libkmod2_24-1ubuntu2_amd64.deb ...\n",
            "Unpacking libkmod2:amd64 (24-1ubuntu2) ...\n",
            "Selecting previously unselected package kmod.\n",
            "Preparing to unpack .../07-kmod_24-1ubuntu2_amd64.deb ...\n",
            "Unpacking kmod (24-1ubuntu2) ...\n",
            "Selecting previously unselected package lsb-release.\n",
            "Preparing to unpack .../08-lsb-release_9.20160110ubuntu5_all.deb ...\n",
            "Unpacking lsb-release (9.20160110ubuntu5) ...\n",
            "Selecting previously unselected package libgirepository-1.0-1:amd64.\n",
            "Preparing to unpack .../09-libgirepository-1.0-1_1.54.1-1_amd64.deb ...\n",
            "Unpacking libgirepository-1.0-1:amd64 (1.54.1-1) ...\n",
            "Selecting previously unselected package gir1.2-glib-2.0:amd64.\n",
            "Preparing to unpack .../10-gir1.2-glib-2.0_1.54.1-1_amd64.deb ...\n",
            "Unpacking gir1.2-glib-2.0:amd64 (1.54.1-1) ...\n",
            "Selecting previously unselected package iso-codes.\n",
            "Preparing to unpack .../11-iso-codes_3.75-1_all.deb ...\n",
            "Unpacking iso-codes (3.75-1) ...\n",
            "Selecting previously unselected package libdbus-glib-1-2:amd64.\n",
            "Preparing to unpack .../12-libdbus-glib-1-2_0.108-2_amd64.deb ...\n",
            "Unpacking libdbus-glib-1-2:amd64 (0.108-2) ...\n",
            "Selecting previously unselected package python-apt-common.\n",
            "Preparing to unpack .../13-python-apt-common_1.4.0~beta3build2_all.deb ...\n",
            "Unpacking python-apt-common (1.4.0~beta3build2) ...\n",
            "Selecting previously unselected package python3-apt.\n",
            "Preparing to unpack .../14-python3-apt_1.4.0~beta3build2_amd64.deb ...\n",
            "Unpacking python3-apt (1.4.0~beta3build2) ...\n",
            "Selecting previously unselected package python3-dbus.\n",
            "Preparing to unpack .../15-python3-dbus_1.2.4-1build3_amd64.deb ...\n",
            "Unpacking python3-dbus (1.2.4-1build3) ...\n",
            "Selecting previously unselected package python3-gi.\n",
            "Preparing to unpack .../16-python3-gi_3.24.1-2build1_amd64.deb ...\n",
            "Unpacking python3-gi (3.24.1-2build1) ...\n",
            "Selecting previously unselected package module-init-tools.\n",
            "Preparing to unpack .../17-module-init-tools_24-1ubuntu2_all.deb ...\n",
            "Unpacking module-init-tools (24-1ubuntu2) ...\n",
            "Selecting previously unselected package python-apt.\n",
            "Preparing to unpack .../18-python-apt_1.4.0~beta3build2_amd64.deb ...\n",
            "Unpacking python-apt (1.4.0~beta3build2) ...\n",
            "Selecting previously unselected package python-pycurl.\n",
            "Preparing to unpack .../19-python-pycurl_7.43.0-2build2_amd64.deb ...\n",
            "Unpacking python-pycurl (7.43.0-2build2) ...\n",
            "Selecting previously unselected package python-software-properties.\n",
            "Preparing to unpack .../20-python-software-properties_0.96.24.17_all.deb ...\n",
            "Unpacking python-software-properties (0.96.24.17) ...\n",
            "Selecting previously unselected package python3-software-properties.\n",
            "Preparing to unpack .../21-python3-software-properties_0.96.24.17_all.deb ...\n",
            "Unpacking python3-software-properties (0.96.24.17) ...\n",
            "Selecting previously unselected package software-properties-common.\n",
            "Preparing to unpack .../22-software-properties-common_0.96.24.17_all.deb ...\n",
            "Unpacking software-properties-common (0.96.24.17) ...\n",
            "Selecting previously unselected package unattended-upgrades.\n",
            "Preparing to unpack .../23-unattended-upgrades_0.98ubuntu1.1_all.deb ...\n",
            "Unpacking unattended-upgrades (0.98ubuntu1.1) ...\n",
            "Setting up python-apt-common (1.4.0~beta3build2) ...\n",
            "Setting up python3-apt (1.4.0~beta3build2) ...\n",
            "Setting up iso-codes (3.75-1) ...\n",
            "Setting up distro-info-data (0.36ubuntu0.2) ...\n",
            "Setting up python-pycurl (7.43.0-2build2) ...\n",
            "Setting up lsb-release (9.20160110ubuntu5) ...\n",
            "Setting up libgirepository-1.0-1:amd64 (1.54.1-1) ...\n",
            "Setting up libkmod2:amd64 (24-1ubuntu2) ...\n",
            "Setting up gir1.2-glib-2.0:amd64 (1.54.1-1) ...\n",
            "Processing triggers for libc-bin (2.26-0ubuntu2.1) ...\n",
            "Setting up libapparmor1:amd64 (2.11.0-2ubuntu17.1) ...\n",
            "Setting up unattended-upgrades (0.98ubuntu1.1) ...\n",
            "\n",
            "Creating config file /etc/apt/apt.conf.d/20auto-upgrades with new version\n",
            "\n",
            "Creating config file /etc/apt/apt.conf.d/50unattended-upgrades with new version\n",
            "invoke-rc.d: could not determine current runlevel\n",
            "invoke-rc.d: policy-rc.d denied execution of start.\n",
            "Setting up dirmngr (2.1.15-1ubuntu8.1) ...\n",
            "Setting up cron (3.0pl1-128ubuntu5) ...\n",
            "Adding group `crontab' (GID 102) ...\n",
            "Done.\n",
            "update-rc.d: warning: start and stop actions are no longer supported; falling back to defaults\n",
            "update-rc.d: warning: stop runlevel arguments (1) do not match cron Default-Stop values (none)\n",
            "invoke-rc.d: could not determine current runlevel\n",
            "invoke-rc.d: policy-rc.d denied execution of start.\n",
            "Setting up libdbus-1-3:amd64 (1.10.22-1ubuntu1) ...\n",
            "Setting up kmod (24-1ubuntu2) ...\n",
            "Setting up libdbus-glib-1-2:amd64 (0.108-2) ...\n",
            "Setting up python3-gi (3.24.1-2build1) ...\n",
            "Setting up module-init-tools (24-1ubuntu2) ...\n",
            "Setting up python3-software-properties (0.96.24.17) ...\n",
            "Setting up dbus (1.10.22-1ubuntu1) ...\n",
            "Setting up python-apt (1.4.0~beta3build2) ...\n",
            "Setting up python3-dbus (1.2.4-1build3) ...\n",
            "Setting up python-software-properties (0.96.24.17) ...\n",
            "Setting up software-properties-common (0.96.24.17) ...\n",
            "Processing triggers for libc-bin (2.26-0ubuntu2.1) ...\n",
            "Processing triggers for dbus (1.10.22-1ubuntu1) ...\n",
            "gpg: keybox '/tmp/tmp6dqng1lf/pubring.gpg' created\n",
            "gpg: /tmp/tmp6dqng1lf/trustdb.gpg: trustdb created\n",
            "gpg: key AD5F235DF639B041: public key \"Launchpad PPA for Alessandro Strada\" imported\n",
            "gpg: Total number processed: 1\n",
            "gpg:               imported: 1\n",
            "Warning: apt-key output should not be parsed (stdout is not a terminal)\n",
            "Selecting previously unselected package libfuse2:amd64.\n",
            "(Reading database ... 19816 files and directories currently installed.)\n",
            "Preparing to unpack .../libfuse2_2.9.7-1ubuntu1_amd64.deb ...\n",
            "Unpacking libfuse2:amd64 (2.9.7-1ubuntu1) ...\n",
            "Selecting previously unselected package fuse.\n",
            "Preparing to unpack .../fuse_2.9.7-1ubuntu1_amd64.deb ...\n",
            "Unpacking fuse (2.9.7-1ubuntu1) ...\n",
            "Selecting previously unselected package google-drive-ocamlfuse.\n",
            "Preparing to unpack .../google-drive-ocamlfuse_0.6.21-0ubuntu2_amd64.deb ...\n",
            "Unpacking google-drive-ocamlfuse (0.6.21-0ubuntu2) ...\n",
            "Setting up libfuse2:amd64 (2.9.7-1ubuntu1) ...\n",
            "Processing triggers for libc-bin (2.26-0ubuntu2.1) ...\n",
            "Setting up fuse (2.9.7-1ubuntu1) ...\n",
            "Setting up google-drive-ocamlfuse (0.6.21-0ubuntu2) ...\n"
          ],
          "name": "stdout"
        }
      ]
    },
    {
      "metadata": {
        "id": "QZXW8TM52Hxh",
        "colab_type": "code",
        "colab": {
          "base_uri": "https://localhost:8080/",
          "height": 108
        },
        "outputId": "e114625d-a83c-433f-b96a-d05b161495d8"
      },
      "cell_type": "code",
      "source": [
        "# Task: 1.2.2 Authenticate and get credentials\n",
        "from google.colab import auth\n",
        "auth.authenticate_user()\n",
        "from oauth2client.client import GoogleCredentials\n",
        "creds = GoogleCredentials.get_application_default()\n",
        "\n",
        "import getpass\n",
        "!google-drive-ocamlfuse -headless -id={creds.client_id} -secret={creds.client_secret} < /dev/null 2>&1 | grep URL\n",
        "vcode = getpass.getpass()\n",
        "!echo {vcode} | google-drive-ocamlfuse -headless -id={creds.client_id} -secret={creds.client_secret}"
      ],
      "execution_count": 0,
      "outputs": [
        {
          "output_type": "stream",
          "text": [
            "Please, open the following URL in a web browser: https://accounts.google.com/o/oauth2/auth?client_id=32555940559.apps.googleusercontent.com&redirect_uri=urn%3Aietf%3Awg%3Aoauth%3A2.0%3Aoob&scope=https%3A%2F%2Fwww.googleapis.com%2Fauth%2Fdrive&response_type=code&access_type=offline&approval_prompt=force\r\n",
            "··········\n",
            "Please, open the following URL in a web browser: https://accounts.google.com/o/oauth2/auth?client_id=32555940559.apps.googleusercontent.com&redirect_uri=urn%3Aietf%3Awg%3Aoauth%3A2.0%3Aoob&scope=https%3A%2F%2Fwww.googleapis.com%2Fauth%2Fdrive&response_type=code&access_type=offline&approval_prompt=force\n",
            "Please enter the verification code: Access token retrieved correctly.\n"
          ],
          "name": "stdout"
        }
      ]
    },
    {
      "metadata": {
        "id": "7PiBzegJ2H-e",
        "colab_type": "code",
        "colab": {
          "base_uri": "https://localhost:8080/",
          "height": 35
        },
        "outputId": "68b2cbfd-68a4-4746-8087-275b73cca380"
      },
      "cell_type": "code",
      "source": [
        "# TASK 1.2.3: Mount Google Drive in local Colab VM\n",
        "!mkdir -p drive\n",
        "!google-drive-ocamlfuse drive\n",
        "!ls"
      ],
      "execution_count": 0,
      "outputs": [
        {
          "output_type": "stream",
          "text": [
            "adc.json  drive  sample_data\r\n"
          ],
          "name": "stdout"
        }
      ]
    },
    {
      "metadata": {
        "id": "vZF9fpRLs1eC",
        "colab_type": "code",
        "colab": {
          "base_uri": "https://localhost:8080/",
          "height": 607
        },
        "outputId": "8d45e485-8341-414d-d87f-39164dbea7e8"
      },
      "cell_type": "code",
      "source": [
        "!ls drive"
      ],
      "execution_count": 0,
      "outputs": [
        {
          "output_type": "stream",
          "text": [
            "10_million_password_list_top_1000000.txt.odt\r\n",
            "10_million_password_list_top_1000000.txt.odt (82879f86)\r\n",
            "1488381833953.jpg\r\n",
            "Archive\r\n",
            "Backup files\r\n",
            "BWF-RR (2016-08-30).pdf\r\n",
            "China Trip 7 January to 21 January\r\n",
            "Copy of Desmos Calculator PD Pack Slides.pdf\r\n",
            "Dimensions of various tablets.ods\r\n",
            "dmesg 7th jul.odt\r\n",
            "Google Keep Document.odt\r\n",
            "Google Keep Document.odt (f76fef83)\r\n",
            "Hachi Tech Online Shopping Links.odt\r\n",
            "Hello World.json\r\n",
            "Hello World.json (f6880367)\r\n",
            "Malacca > KL > Cameron HighlandsTrip Planning 180318 to 210318.desktop\r\n",
            "Malacca > KL > Cameron HighlandsTrip Planning 180318 to 210318.odt\r\n",
            "Modules\r\n",
            "Music Goals List for 23_5_18.ods\r\n",
            "Music Intime Setlist AY18_19 S1.ods\r\n",
            "New_Nomenclature.pdf\r\n",
            "Notebooks\r\n",
            "Notes for Mathemusic.odt\r\n",
            "NTU Stuff Shared\r\n",
            "Organisational\r\n",
            "Penpal Conversation.odt\r\n",
            "Play Books Notes\r\n",
            "PolygonSmoothingPaper.pdf\r\n",
            "Suzhou Shanghai Hangzhou Itinerary.odt\r\n",
            "The Clean Architecture in Python.odt\r\n",
            "THE ROOM_Viewers Guide.pdf\r\n",
            "Timesheet\r\n",
            "Yi Fong's 21st Collaborative Planning Idea.ods\r\n"
          ],
          "name": "stdout"
        }
      ]
    },
    {
      "metadata": {
        "id": "8S5dO5eGv-tN",
        "colab_type": "code",
        "colab": {
          "base_uri": "https://localhost:8080/",
          "height": 35
        },
        "outputId": "ded78087-9114-4017-b718-570acd8f980f"
      },
      "cell_type": "code",
      "source": [
        "!ls drive/NTUOSS-ImageRecognitionWorkshop"
      ],
      "execution_count": 0,
      "outputs": [
        {
          "output_type": "stream",
          "text": [
            "start.ipynb\r\n"
          ],
          "name": "stdout"
        }
      ]
    },
    {
      "metadata": {
        "id": "21qRDQL64UOv",
        "colab_type": "code",
        "colab": {
          "base_uri": "https://localhost:8080/",
          "height": 35
        },
        "outputId": "507cbb3f-6c87-4c08-9d49-cc7e4c67fbb3"
      },
      "cell_type": "code",
      "source": [
        "!ls drive/NTUOSS-ImageRecognitionWorkshop-Data"
      ],
      "execution_count": 0,
      "outputs": [
        {
          "output_type": "stream",
          "text": [
            "model  test  train  validation\r\n"
          ],
          "name": "stdout"
        }
      ]
    },
    {
      "metadata": {
        "id": "rEg30T2jxiQ4",
        "colab_type": "text"
      },
      "cell_type": "markdown",
      "source": [
        "## Task 2 - Preprocess Images"
      ]
    },
    {
      "metadata": {
        "id": "SISgbu0P9Kod",
        "colab_type": "text"
      },
      "cell_type": "markdown",
      "source": [
        "#### 2.1 Configure Image Augmentation"
      ]
    },
    {
      "metadata": {
        "id": "o4IioH2QOwww",
        "colab_type": "code",
        "colab": {}
      },
      "cell_type": "code",
      "source": [
        "# TASK 2.1 : Add augmentation configuration for the data generator of train data only\n",
        "\n",
        "from keras.preprocessing.image import ImageDataGenerator\n",
        "\n",
        "datagen_train =  ImageDataGenerator(\n",
        "    rescale = 1. / 255,\n",
        "    rotation_range = 30,\n",
        "    width_shift_range = 0.2,\n",
        "    height_shift_range = 0.2,\n",
        "    zoom_range = 0.2,\n",
        "    horizontal_flip = True)\n",
        "datagen_val = ImageDataGenerator(\n",
        "    rescale = 1. / 255)"
      ],
      "execution_count": 0,
      "outputs": []
    },
    {
      "metadata": {
        "id": "6MaCq_5m9MT0",
        "colab_type": "text"
      },
      "cell_type": "markdown",
      "source": [
        "#### 2.2 Generate Image Data from Directory"
      ]
    },
    {
      "metadata": {
        "id": "MBINoSpOtWw5",
        "colab_type": "code",
        "colab": {
          "base_uri": "https://localhost:8080/",
          "height": 53
        },
        "outputId": "b2ad0671-59b2-41fc-a424-5e70692dd79c"
      },
      "cell_type": "code",
      "source": [
        "# TASK 2.2.1 : Generate Image Data from Directory and Set parameter\n",
        "\n",
        "train_data = datagen_train.flow_from_directory(\n",
        "    directory = './drive/NTUOSS-ImageRecognitionWorkshop-Data/train',\n",
        "    target_size = (150, 150),\n",
        "    class_mode = 'binary',\n",
        "    shuffle = True,\n",
        "    batch_size = 50)\n",
        "validation_data = datagen_val.flow_from_directory(\n",
        "    directory = './drive/NTUOSS-ImageRecognitionWorkshop-Data/validation',\n",
        "    target_size = (150, 150),\n",
        "    class_mode = 'binary',\n",
        "    shuffle = True,\n",
        "    batch_size = 50)"
      ],
      "execution_count": 0,
      "outputs": [
        {
          "output_type": "stream",
          "text": [
            "Found 4000 images belonging to 2 classes.\n",
            "Found 2000 images belonging to 2 classes.\n"
          ],
          "name": "stdout"
        }
      ]
    },
    {
      "metadata": {
        "id": "zJHsfDslpopi",
        "colab_type": "code",
        "colab": {
          "base_uri": "https://localhost:8080/",
          "height": 35
        },
        "outputId": "32e54a43-2e38-4f39-ee76-cb7ae385d602"
      },
      "cell_type": "code",
      "source": [
        "# TASK 2.2.2 : Check class indices\n",
        "print('Class Indices : {}'.format(train_data.class_indices))"
      ],
      "execution_count": 0,
      "outputs": [
        {
          "output_type": "stream",
          "text": [
            "Class Indices : {'cat': 0, 'dog': 1}\n"
          ],
          "name": "stdout"
        }
      ]
    },
    {
      "metadata": {
        "id": "WxXgTJL-wd7o",
        "colab_type": "text"
      },
      "cell_type": "markdown",
      "source": [
        "## Task 3 - Build Basic Model"
      ]
    },
    {
      "metadata": {
        "id": "KIe4_MAPCVjk",
        "colab_type": "text"
      },
      "cell_type": "markdown",
      "source": [
        "#### 3.1 Set up backend and Import libraries"
      ]
    },
    {
      "metadata": {
        "id": "pYjQjeIPwkix",
        "colab_type": "code",
        "colab": {}
      },
      "cell_type": "code",
      "source": [
        "# TASK 3.1.1 Configure backend\n",
        "\n",
        "from keras import backend as K\n",
        "K.set_image_dim_ordering('?') #channel last\n",
        "K.set_image_data_format('?')"
      ],
      "execution_count": 0,
      "outputs": []
    },
    {
      "metadata": {
        "id": "2f-NIQHlB9mt",
        "colab_type": "code",
        "colab": {}
      },
      "cell_type": "code",
      "source": [
        "# TASK 3.1.2 Import the Keras libraries and packages\n",
        "\n",
        "from keras.models import ?\n",
        "from keras.layers import ?, ?, ?, ?"
      ],
      "execution_count": 0,
      "outputs": []
    },
    {
      "metadata": {
        "id": "4fenCQMkCdrX",
        "colab_type": "text"
      },
      "cell_type": "markdown",
      "source": [
        "#### 3.2 Construct Model"
      ]
    },
    {
      "metadata": {
        "id": "4UJKpPNRvfW1",
        "colab_type": "code",
        "colab": {}
      },
      "cell_type": "code",
      "source": [
        "# TASK 3.2.1 Initialize Neural Network Model\n",
        "model = Sequential()\n",
        "\n",
        "# TASK 3.2.2 Create first set of CONV -> RELU -> POOL layers\n",
        "model.add(Conv2D(?, (?, ?), activation='?', input_shape=(?, ?, ?)))\n",
        "model.add(MaxPooling2D(pool_size=(?, ?)))\n",
        "\n",
        "# TASK 3.2.3 Create second set of CONV -> RELU -> POOL layers\n",
        "model.add(Conv2D(?, (?, ?), activation='?'))\n",
        "model.add(MaxPooling2D(pool_size=(?, ?)))\n",
        "\n",
        "# TASK 3.2.4 Create third set of CONV -> RELU -> POOL layers\n",
        "model.add(Conv2D(?, (?, ?), activation='?'))\n",
        "model.add(MaxPooling2D(pool_size=(?, ?)))\n",
        "\n",
        "# TASK 3.2.5 Convert the 3D feature maps to 1D feature vectors\n",
        "model.add(Flatten())\n",
        "\n",
        "# TASK 3.2.6 Add the connection layer\n",
        "model.add(Dense(units = ?, activation='?'))\n",
        "\n",
        "# TASK 3.2.7 Add the output layer\n",
        "model.add(Dense(units = ?, activation = '?'))\n",
        "\n",
        "# TASK 3.2.8 Compile the model\n",
        "model.compile(loss = '?', optimizer = '?', metrics = ['?'])"
      ],
      "execution_count": 0,
      "outputs": []
    },
    {
      "metadata": {
        "id": "1SDqr431Clf5",
        "colab_type": "text"
      },
      "cell_type": "markdown",
      "source": [
        "#### 3.3 Check Model"
      ]
    },
    {
      "metadata": {
        "id": "EZ9rQMfg05Sd",
        "colab_type": "code",
        "colab": {}
      },
      "cell_type": "code",
      "source": [
        "# TASK 3.3 Check the model structure.\n"
      ],
      "execution_count": 0,
      "outputs": []
    },
    {
      "metadata": {
        "id": "Cj9lVdrLyJF0",
        "colab_type": "text"
      },
      "cell_type": "markdown",
      "source": [
        "## Task 4 - Train Model\n",
        "\n"
      ]
    },
    {
      "metadata": {
        "id": "QpIz-RCbO4Ok",
        "colab_type": "code",
        "colab": {}
      },
      "cell_type": "code",
      "source": [
        "# TASK 4: Train Model [WARNING: It took me 84.95 min]\n",
        "import time\n",
        "train_start_time = time.time()\n",
        "\n",
        "from keras.callbacks import EarlyStopping\n",
        "model.fit_generator(\n",
        "    generator = train_data,\n",
        "    epochs = ?,\n",
        "    callbacks = [EarlyStopping(monitor='?', patience=?, verbose=?)],\n",
        "    validation_data = validation_data)\n",
        "model.save('./drive/NTUOSS-ImageRecognitionWorkshop/cnn_model_basic.h5') # save model\n",
        "print(\"It takes {:.2f} min to train the model\".format((time.time() - train_start_time)/60 ))"
      ],
      "execution_count": 0,
      "outputs": []
    },
    {
      "metadata": {
        "id": "mCtBI1aZejEJ",
        "colab_type": "code",
        "colab": {}
      },
      "cell_type": "code",
      "source": [
        ""
      ],
      "execution_count": 0,
      "outputs": []
    },
    {
      "metadata": {
        "id": "DPBu5hvGyL-E",
        "colab_type": "text"
      },
      "cell_type": "markdown",
      "source": [
        "## Task 5 - Test Basic Model"
      ]
    },
    {
      "metadata": {
        "id": "Lj8ktP3JAjPC",
        "colab_type": "text"
      },
      "cell_type": "markdown",
      "source": [
        "#### 5.1 Load Model"
      ]
    },
    {
      "metadata": {
        "id": "8rukxUoDzI4G",
        "colab_type": "code",
        "colab": {}
      },
      "cell_type": "code",
      "source": [
        "# TASK 5.2: Load trained model\n",
        "from keras.models import load_model\n",
        "model_basic = load_model('?')"
      ],
      "execution_count": 0,
      "outputs": []
    },
    {
      "metadata": {
        "id": "giaMRCb_Fser",
        "colab_type": "text"
      },
      "cell_type": "markdown",
      "source": [
        "#### 5.2 Generate Test Image Data from Directory"
      ]
    },
    {
      "metadata": {
        "id": "3TBZYd0SGJN8",
        "colab_type": "code",
        "colab": {}
      },
      "cell_type": "code",
      "source": [
        "# TASK 5.2.1: Set up data generator for test data\n",
        "from keras.preprocessing.image import ImageDataGenerator\n",
        "datagen_test = ImageDataGenerator(rescale=1. / 255)\n",
        "\n",
        "test_data = datagen_test.flow_from_directory (\n",
        "    directory = './drive/NTUOSS-ImageRecognitionWorkshop-Data/test',\n",
        "    target_size = (?, ?),\n",
        "    class_mode = ?,\n",
        "    shuffle = ?,\n",
        "    batch_size = ?)\n"
      ],
      "execution_count": 0,
      "outputs": []
    },
    {
      "metadata": {
        "id": "iL810zBBzWfH",
        "colab_type": "code",
        "colab": {}
      },
      "cell_type": "code",
      "source": [
        "# TASK 5.2.2: Check test generator\n"
      ],
      "execution_count": 0,
      "outputs": []
    },
    {
      "metadata": {
        "id": "Qx_9zvZTAr46",
        "colab_type": "text"
      },
      "cell_type": "markdown",
      "source": [
        "#### 5.3 Make Prediction"
      ]
    },
    {
      "metadata": {
        "id": "KE69ET-VWGAV",
        "colab_type": "code",
        "colab": {}
      },
      "cell_type": "code",
      "source": [
        "# TASK 5.3.1: Use model to yield probability prediction for test data\n",
        "scores = model_basic.predict_generator(test_data)\n",
        "print(scores)"
      ],
      "execution_count": 0,
      "outputs": []
    },
    {
      "metadata": {
        "id": "xqUJPM_YWZb4",
        "colab_type": "code",
        "colab": {}
      },
      "cell_type": "code",
      "source": [
        "# TASK 5.3.2: Process probabilities to get prediction result\n",
        "y_pred = [round(score[0]) for score in scores]\n",
        "print(y_pred)"
      ],
      "execution_count": 0,
      "outputs": []
    },
    {
      "metadata": {
        "id": "FmQub24yzMLa",
        "colab_type": "code",
        "colab": {}
      },
      "cell_type": "code",
      "source": [
        "# TASK 5.3.3: Prepare actual result using filenames\n",
        "y_true = [? if 'cat' in filename else ? for filename in test_data.filenames]\n",
        "print(y_true)\n"
      ],
      "execution_count": 0,
      "outputs": []
    },
    {
      "metadata": {
        "id": "fkG3blaecpZ5",
        "colab_type": "code",
        "colab": {}
      },
      "cell_type": "code",
      "source": [
        "# TASK 5.3.4: Calculate accuracy score\n",
        "from sklearn.metrics import accuracy_score\n",
        "print(accuracy_score(?, ?))"
      ],
      "execution_count": 0,
      "outputs": []
    },
    {
      "metadata": {
        "id": "WEyJFFCwxFEC",
        "colab_type": "code",
        "colab": {}
      },
      "cell_type": "code",
      "source": [
        "# TASK 5.3.5: Generate a report\n",
        "import pandas as pd\n",
        "pd.crosstab(pd.Series(?), pd.Series(?), rownames = ['True'], colnames = ['Pred'], margins = True)"
      ],
      "execution_count": 0,
      "outputs": []
    },
    {
      "metadata": {
        "id": "fyuJleJ4yR3s",
        "colab_type": "text"
      },
      "cell_type": "markdown",
      "source": [
        "## Task 6 - Recognize Image with Basic Model"
      ]
    },
    {
      "metadata": {
        "id": "qHcgotqzEVrS",
        "colab_type": "text"
      },
      "cell_type": "markdown",
      "source": [
        "#### 6.1 Useful Functions"
      ]
    },
    {
      "metadata": {
        "id": "TallyneuQ8hJ",
        "colab_type": "code",
        "colab": {}
      },
      "cell_type": "code",
      "source": [
        "# TASK 6.1.1: Define a function for reading image from url\n",
        "import requests, io\n",
        "from PIL import Image\n",
        "def read_image_from_url(url):\n",
        "    try:\n",
        "        r = requests.get(url, timeout=15)\n",
        "        img = Image.open(io.BytesIO(r.content))\n",
        "        return img\n",
        "    except:\n",
        "        print(\"{:<10} Cannot find image from {}\".format('[ERROR]', url))\n",
        "        exit(1)"
      ],
      "execution_count": 0,
      "outputs": []
    },
    {
      "metadata": {
        "id": "g9J666-uRMnZ",
        "colab_type": "code",
        "colab": {}
      },
      "cell_type": "code",
      "source": [
        "# TASK 6.1.2: Define a function for preprocessing image\n",
        "from PIL import Image\n",
        "import numpy as np\n",
        "def preprocess_image(img, target_size):\n",
        "    from keras.preprocessing.image import img_to_array\n",
        "    img = img.resize(target_size,Image.ANTIALIAS)\n",
        "    img = img_to_array(img)\n",
        "    img = np.expand_dims(img, axis=0)\n",
        "    img = img.astype('float32')\n",
        "    img /= 255\n",
        "    return img"
      ],
      "execution_count": 0,
      "outputs": []
    },
    {
      "metadata": {
        "id": "GPLE8eEkRUIv",
        "colab_type": "code",
        "colab": {}
      },
      "cell_type": "code",
      "source": [
        "# TASK 6.1.3: Define a function for processing result\n",
        "def process_result(score):\n",
        "    return 'dog' if score > ? else 'cat'"
      ],
      "execution_count": 0,
      "outputs": []
    },
    {
      "metadata": {
        "id": "02OSLunFE24v",
        "colab_type": "text"
      },
      "cell_type": "markdown",
      "source": [
        "#### 6.2 Make Prediction"
      ]
    },
    {
      "metadata": {
        "id": "1NwPMVjUE42C",
        "colab_type": "code",
        "colab": {}
      },
      "cell_type": "code",
      "source": [
        "# TASK 6.2: Read image, Preprocess image, and Make prediction\n",
        "image = read_image_from_url('https://www.readersdigest.ca/wp-content/uploads/2011/01/4-ways-cheer-up-depressed-cat.jpg') # replace with any image url\n",
        "image = preprocess_image(image, (?, ?))\n",
        "score = model_basic.predict(image)\n",
        "print('Score: ' + str(score))\n",
        "print('Class: ' + process_result(score))"
      ],
      "execution_count": 0,
      "outputs": []
    },
    {
      "metadata": {
        "id": "4_kCWMMd13Bi",
        "colab_type": "text"
      },
      "cell_type": "markdown",
      "source": [
        "## Task 7 - Build on Top of Pretrained Model"
      ]
    },
    {
      "metadata": {
        "id": "In-h6soZG2xE",
        "colab_type": "text"
      },
      "cell_type": "markdown",
      "source": [
        "#### 7.1 Set up backend and Import libraries"
      ]
    },
    {
      "metadata": {
        "id": "OJOcHFoeHKYz",
        "colab_type": "code",
        "colab": {}
      },
      "cell_type": "code",
      "source": [
        "# TASK 7.1.1 Configure backend\n",
        "from keras import backend as K\n",
        "K.set_image_dim_ordering('?') #channel last\n",
        "K.set_image_data_format('?')"
      ],
      "execution_count": 0,
      "outputs": []
    },
    {
      "metadata": {
        "id": "BqzZIO--12WY",
        "colab_type": "code",
        "colab": {}
      },
      "cell_type": "code",
      "source": [
        "# TASK 7.1.2 Import the Keras libraries and packages\n"
      ],
      "execution_count": 0,
      "outputs": []
    },
    {
      "metadata": {
        "id": "1f7y2C10HTl5",
        "colab_type": "text"
      },
      "cell_type": "markdown",
      "source": [
        "#### 7.2 Construct Model"
      ]
    },
    {
      "metadata": {
        "id": "xRpXPLtJHStr",
        "colab_type": "code",
        "colab": {}
      },
      "cell_type": "code",
      "source": [
        "# TASK 7.2.1: Load base model\n",
        "base_model = VGG16(include_top = ?, weights = '?', input_shape = (?, ?, ?))"
      ],
      "execution_count": 0,
      "outputs": []
    },
    {
      "metadata": {
        "id": "aR0-pmU1HSyF",
        "colab_type": "code",
        "colab": {}
      },
      "cell_type": "code",
      "source": [
        "# TASK 7.2.2: Add new layers\n",
        "x = base_model.output\n",
        "x = Flatten()(x)\n",
        "x = Dense(?, activation='?')(x) #new FC layer, random init\n",
        "x = Dropout(?)(x)\n",
        "predictions = Dense(?, activation='?')(x)\n",
        "model = Model(inputs=base_model.input, outputs=predictions)"
      ],
      "execution_count": 0,
      "outputs": []
    },
    {
      "metadata": {
        "id": "ro1AgJ_H2Gr4",
        "colab_type": "code",
        "colab": {}
      },
      "cell_type": "code",
      "source": [
        "# TASK 7.2.3: Setup trainable layer\n",
        "for layer in base_model.layers:\n",
        "    layer.trainable = ?\n",
        "print(\"{:<10} Pretrained model layers: {}\".format('[INFO]', len(base_model.layers)))\n",
        "print(\"{:<10} Total number of layers : {}\".format('[INFO]', len(model.layers)))\n"
      ],
      "execution_count": 0,
      "outputs": []
    },
    {
      "metadata": {
        "id": "tq4FV15WWxhK",
        "colab_type": "code",
        "colab": {}
      },
      "cell_type": "code",
      "source": [
        "# TASK 7.2.4: Compile model\n",
        "model.compile(loss = '?', optimizer = '?', metrics = ['?'])"
      ],
      "execution_count": 0,
      "outputs": []
    },
    {
      "metadata": {
        "id": "CnD5GBxsHllI",
        "colab_type": "text"
      },
      "cell_type": "markdown",
      "source": [
        "#### 7.3 Check Model"
      ]
    },
    {
      "metadata": {
        "id": "in98VSAI2FVE",
        "colab_type": "code",
        "colab": {}
      },
      "cell_type": "code",
      "source": [
        "# TASK 7.3: Check Model\n",
        "model.summary()"
      ],
      "execution_count": 0,
      "outputs": []
    },
    {
      "metadata": {
        "id": "3uix85o8197z",
        "colab_type": "text"
      },
      "cell_type": "markdown",
      "source": [
        "## Task 8 - Train Advanced Model"
      ]
    },
    {
      "metadata": {
        "id": "iKCZnXvV19Y_",
        "colab_type": "code",
        "colab": {}
      },
      "cell_type": "code",
      "source": [
        "# TASK 8: Train advanced model.\n",
        "\n",
        "import time\n",
        "train_start_time = time.time()\n",
        "\n",
        "from keras.callbacks import EarlyStopping\n",
        "\n",
        "model.fit_generator(\n",
        "    train_data,\n",
        "    epochs= ? ,\n",
        "    callbacks = [EarlyStopping(monitor='?', patience=?, verbose=?)],\n",
        "    validation_data = validation_data)\n",
        "model.save('./drive/NTUOSS-ImageRecognitionWorkshop/cnn_model_advanced.h5')\n",
        "\n",
        "print(\"It takes {:.2f} min to train the model\".format((time.time() - train_start_time)/60 ))"
      ],
      "execution_count": 0,
      "outputs": []
    },
    {
      "metadata": {
        "id": "0wEp41uwPbuh",
        "colab_type": "text"
      },
      "cell_type": "markdown",
      "source": [
        "## Task 9 - Test Advanced Model"
      ]
    },
    {
      "metadata": {
        "id": "cgKnKTY2J4YT",
        "colab_type": "text"
      },
      "cell_type": "markdown",
      "source": [
        "#### 9.1 Load Model"
      ]
    },
    {
      "metadata": {
        "id": "VZRccU5qQZ4R",
        "colab_type": "code",
        "colab": {}
      },
      "cell_type": "code",
      "source": [
        "# TASK 9.1: Load trained model\n",
        "from keras.models import load_model\n",
        "model_advanced = load_model('?')"
      ],
      "execution_count": 0,
      "outputs": []
    },
    {
      "metadata": {
        "id": "k8AHTgywQQGw",
        "colab_type": "text"
      },
      "cell_type": "markdown",
      "source": [
        "#### 9.2 Generate Test Image Data from Directory"
      ]
    },
    {
      "metadata": {
        "id": "uNTicKlbPbik",
        "colab_type": "code",
        "colab": {}
      },
      "cell_type": "code",
      "source": [
        "# TASK 9.2.1 : Set up data generator for test data\n",
        "from keras.preprocessing.image import ImageDataGenerator\n",
        "datagen_test = ImageDataGenerator(rescale=1. / 255)\n",
        "\n",
        "test_data = datagen_test.flow_from_directory (\n",
        "    directory = '?',\n",
        "    target_size = (?, ?),\n",
        "    class_mode = ?,\n",
        "    shuffle = ?,\n",
        "    batch_size = ?)  "
      ],
      "execution_count": 0,
      "outputs": []
    },
    {
      "metadata": {
        "id": "BsFLXWqbQXof",
        "colab_type": "code",
        "colab": {}
      },
      "cell_type": "code",
      "source": [
        "# TASK 9.2.2: Check test data generator\n",
        "print(test_data.class_indices)\n",
        "print(test_data.filenames)"
      ],
      "execution_count": 0,
      "outputs": []
    },
    {
      "metadata": {
        "id": "iozg9HnSLjSE",
        "colab_type": "text"
      },
      "cell_type": "markdown",
      "source": [
        "#### 9.3 Make Prediction"
      ]
    },
    {
      "metadata": {
        "id": "yQ_qFIDdQdMK",
        "colab_type": "code",
        "colab": {}
      },
      "cell_type": "code",
      "source": [
        "# TASK 9.3: Make prediction and Check model performance\n",
        "\n",
        "# Use model to yield score prediction for test data\n",
        "scores = model_advanced.predict_generator(test_data)\n",
        "\n",
        "# Process scores to get prediction result\n",
        "y_pred = [round(score[0]) for score in scores]\n",
        "\n",
        "# Prepare actual result using filenames\n",
        "y_true = [0 if 'cat' in filename else 1 for filename in test_data.filenames]\n",
        "\n",
        "# Calculate accuracy score\n",
        "from sklearn.metrics import accuracy_score\n",
        "print(accuracy_score(y_true, y_pred))\n",
        "\n",
        "# Generate a report\n",
        "import pandas as pd\n",
        "pd.crosstab(pd.Series(y_true), pd.Series(y_pred), rownames = ['True'], colnames = ['Pred'], margins = True)"
      ],
      "execution_count": 0,
      "outputs": []
    },
    {
      "metadata": {
        "id": "m0dHPVZbQcOg",
        "colab_type": "text"
      },
      "cell_type": "markdown",
      "source": [
        "## Task 10 - Recognize Image with Advanced Model"
      ]
    },
    {
      "metadata": {
        "id": "dNtuPeelDoU0",
        "colab_type": "text"
      },
      "cell_type": "markdown",
      "source": [
        "#### 10.1 Make Prediction"
      ]
    },
    {
      "metadata": {
        "id": "sgKwEudARcPe",
        "colab_type": "code",
        "colab": {}
      },
      "cell_type": "code",
      "source": [
        "# TASK 10.1: Read image, Preprocess image, and Make prediction\n",
        "image = read_image_from_url('https://www.readersdigest.ca/wp-content/uploads/2011/01/4-ways-cheer-up-depressed-cat.jpg') # replace with any image url\n",
        "image = preprocess_image(image, (?, ?))\n",
        "score = model_advanced.predict(image)\n",
        "print('Score: ' + str(score))\n",
        "print('Class: ' + process_result(score))"
      ],
      "execution_count": 0,
      "outputs": []
    },
    {
      "metadata": {
        "id": "FBYhx4JQIZGC",
        "colab_type": "code",
        "colab": {}
      },
      "cell_type": "code",
      "source": [
        "# Restart Google Colab - Only run the line below when u mess up with the virtual machine\n",
        "# !kill -9 -1"
      ],
      "execution_count": 0,
      "outputs": []
    }
  ]
}